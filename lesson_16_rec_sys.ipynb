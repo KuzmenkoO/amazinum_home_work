{
  "nbformat": 4,
  "nbformat_minor": 0,
  "metadata": {
    "colab": {
      "provenance": [],
      "authorship_tag": "ABX9TyOygffmwPjlCgUbC/brNnet",
      "include_colab_link": true
    },
    "kernelspec": {
      "name": "python3",
      "display_name": "Python 3"
    },
    "language_info": {
      "name": "python"
    }
  },
  "cells": [
    {
      "cell_type": "markdown",
      "metadata": {
        "id": "view-in-github",
        "colab_type": "text"
      },
      "source": [
        "<a href=\"https://colab.research.google.com/github/KuzmenkoO/amazinum_home_work/blob/main/lesson_16_rec_sys.ipynb\" target=\"_parent\"><img src=\"https://colab.research.google.com/assets/colab-badge.svg\" alt=\"Open In Colab\"/></a>"
      ]
    },
    {
      "cell_type": "markdown",
      "source": [
        "Replicate Simple recommender implementation"
      ],
      "metadata": {
        "id": "aGsOOeGkMus8"
      }
    },
    {
      "cell_type": "code",
      "execution_count": 7,
      "metadata": {
        "colab": {
          "base_uri": "https://localhost:8080/"
        },
        "id": "UEUiHI4mIDUw",
        "outputId": "3f422331-d0c9-470c-ff02-0103b05b9859"
      },
      "outputs": [
        {
          "output_type": "stream",
          "name": "stdout",
          "text": [
            "Рекомендовані фільми:\n",
            "                                               title  vote_count  \\\n",
            "14551                                         Avatar     12114.0   \n",
            "12481                                The Dark Knight     12269.0   \n",
            "26555                   Star Wars: The Force Awakens      7993.0   \n",
            "7000   The Lord of the Rings: The Return of the King      8226.0   \n",
            "17437   Harry Potter and the Deathly Hallows: Part 2      6141.0   \n",
            "1639                                         Titanic      7770.0   \n",
            "15480                                      Inception     14075.0   \n",
            "351                                     Forrest Gump      8147.0   \n",
            "5814           The Lord of the Rings: The Two Towers      7641.0   \n",
            "834                                    The Godfather      6024.0   \n",
            "\n",
            "       vote_average       revenue     score  \n",
            "14551           7.2  2.787965e+09  9.179380  \n",
            "12481           8.3  1.004558e+09  8.986116  \n",
            "26555           7.5  2.068224e+09  8.946750  \n",
            "7000            8.1  1.118889e+09  8.855305  \n",
            "17437           7.9  1.342000e+09  8.804768  \n",
            "1639            7.5  1.845034e+09  8.785602  \n",
            "15480           8.1  8.255328e+08  8.664317  \n",
            "351             8.2  6.779454e+08  8.636610  \n",
            "5814            8.0  9.262874e+08  8.615639  \n",
            "834             8.5  2.450664e+08  8.601242  \n"
          ]
        }
      ],
      "source": [
        "import pandas as pd\n",
        "\n",
        "\n",
        "metadata = pd.read_csv('movies_metadata.csv', low_memory=False)\n",
        "\n",
        "C = metadata['vote_average'].mean()\n",
        "\n",
        "m = metadata['vote_count'].quantile(0.90)\n",
        "\n",
        "q_movies = metadata.copy().loc[metadata['vote_count'] >= m]\n",
        "\n",
        "q_movies['revenue'] = pd.to_numeric(q_movies['revenue'], errors='coerce').fillna(0)\n",
        "\n",
        "def weighted_rating(x, m=m, C=C):\n",
        "    v = x['vote_count']\n",
        "    R = x['vote_average']\n",
        "    rev = x['revenue']\n",
        "    # IMDb формула + нормалізація доходу\n",
        "    return (v/(v+m) * R) + (m/(m+v) * C) + (rev / q_movies['revenue'].max() * 2)\n",
        "\n",
        "q_movies['score'] = q_movies.apply(weighted_rating, axis=1)\n",
        "\n",
        "q_movies = q_movies.sort_values('score', ascending=False)\n",
        "\n",
        "print(\"Рекомендовані фільми:\")\n",
        "print(q_movies[['title', 'vote_count', 'vote_average', 'revenue', 'score']].head(10))"
      ]
    }
  ]
}