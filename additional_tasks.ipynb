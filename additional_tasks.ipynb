{
  "nbformat": 4,
  "nbformat_minor": 0,
  "metadata": {
    "colab": {
      "provenance": [],
      "authorship_tag": "ABX9TyMUTp4ymY08XFLWyMzbQAtn",
      "include_colab_link": true
    },
    "kernelspec": {
      "name": "python3",
      "display_name": "Python 3"
    },
    "language_info": {
      "name": "python"
    }
  },
  "cells": [
    {
      "cell_type": "markdown",
      "metadata": {
        "id": "view-in-github",
        "colab_type": "text"
      },
      "source": [
        "<a href=\"https://colab.research.google.com/github/KuzmenkoO/amazinum_home_work/blob/main/additional_tasks.ipynb\" target=\"_parent\"><img src=\"https://colab.research.google.com/assets/colab-badge.svg\" alt=\"Open In Colab\"/></a>"
      ]
    },
    {
      "cell_type": "code",
      "execution_count": null,
      "metadata": {
        "id": "AGkgg-d-00hS"
      },
      "outputs": [],
      "source": []
    },
    {
      "cell_type": "markdown",
      "source": [
        "**Додаткові завдання**"
      ],
      "metadata": {
        "id": "-wnc3rgB03_k"
      }
    },
    {
      "cell_type": "markdown",
      "source": [
        "Завдання №1 Про суму та добуток"
      ],
      "metadata": {
        "id": "ZqMC377D1Dpi"
      }
    },
    {
      "cell_type": "code",
      "source": [
        "from collections import defaultdict\n",
        "\n",
        "\n",
        "pairs = []\n",
        "for a in range(2, 100):\n",
        "    for b in range(a, 100):\n",
        "        pairs.append((a, b))\n",
        "\n",
        "sum_to_pairs = defaultdict(list)\n",
        "product_to_pairs = defaultdict(list)\n",
        "\n",
        "for a, b in pairs:\n",
        "    S = a + b\n",
        "    P = a * b\n",
        "    sum_to_pairs[S].append((a, b))\n",
        "    product_to_pairs[P].append((a, b))\n",
        "\n",
        "# 1. Добуток: \"Я не знаю цифр\" / добуток має більше однієї пари\n",
        "ambiguous_products = set()\n",
        "for P, ps in product_to_pairs.items():\n",
        "    if len(ps) > 1:\n",
        "        ambiguous_products.add(P)\n",
        "\n",
        "# 2. Сума: \"Я знаю, що ти не знаєш цифр\" / Тобто сума така, що всі пари, які дають цю суму, мають неоднозначні добутки\n",
        "sums_where_all_products_ambiguous = set()\n",
        "for S, ps in sum_to_pairs.items():\n",
        "    if all(a * b in ambiguous_products for (a, b) in ps):\n",
        "        sums_where_all_products_ambiguous.add(S)\n",
        "\n",
        "# 3. Добуток: \"Тепер я знаю цифри\" / Шукаємо добутки, яким відповідає лише одна пара, і ця пара має суму з попереднього списку\n",
        "valid_products = set()\n",
        "for P, ps in product_to_pairs.items():\n",
        "    valid_pairs = [pair for pair in ps if sum(pair) in sums_where_all_products_ambiguous]\n",
        "    if len(valid_pairs) == 1:\n",
        "        valid_products.add(P)\n",
        "\n",
        "# 4. Сума: \"Тепер я теж знаю\" / Шукаємо суми, для яких тільки одна пара має добуток з valid_products\n",
        "result = []\n",
        "for S in sums_where_all_products_ambiguous:\n",
        "    valid_pairs = [pair for pair in sum_to_pairs[S] if pair[0] * pair[1] in valid_products]\n",
        "    if len(valid_pairs) == 1:\n",
        "        result.append(valid_pairs[0])\n",
        "\n",
        "print(\"Шукані числа:\")\n",
        "for a, b in result:\n",
        "    print(f\"a = {a}, b = {b}, сума = {a + b}, добуток = {a * b}\")\n",
        ""
      ],
      "metadata": {
        "colab": {
          "base_uri": "https://localhost:8080/"
        },
        "id": "t-kPQoLx1Xty",
        "outputId": "db292065-6512-4fc8-df19-a0a91dd9fae2"
      },
      "execution_count": 1,
      "outputs": [
        {
          "output_type": "stream",
          "name": "stdout",
          "text": [
            "Шукані числа:\n",
            "a = 4, b = 13, сума = 17, добуток = 52\n"
          ]
        }
      ]
    },
    {
      "cell_type": "markdown",
      "source": [
        "Завдання №2 Про стакани та 100 поверховий хмарочос"
      ],
      "metadata": {
        "id": "zsWAFW-q1wcb"
      }
    },
    {
      "cell_type": "markdown",
      "source": [
        "*2 стакани 100 поверхів*\n",
        "\n",
        "Щоб визначити з якого поверху починати кидати я йшов з кінця тобто 100 остання спроба, 100-1 - передостання, 99-2, 97-3, 94-4, 90-5, 85-6, 79-7, 72-8, 64-9, 55-10, 45-11, 34-12, 22-13, 9. Відповідно щоб перебрати всі поверхи потрібно як максимум 14 мінімальних спроб починаючи з 14 поверху. Логіка -з 14-го - кинув, розбив - лінійно з 1 по 13 (14 кидків), а якщо не розбив то з 14+13=27 поверху, далі 27+12=39,  50, 60, 69, 77, 84, 90 , 95, 99, 100. Різницю до кожного наступного поверху зменшуємо на -1.\n",
        "\n",
        "Відповідь: 14 спроб\n",
        "\n",
        "\n",
        "\n",
        "*3 стакани 100 поверхів*\n",
        "\n",
        "Маючи більше можливостей для помилки я спочатку йшов би 50/50 тобто 50 поверх, 75, 88, 94, 97 … до першого розбитого стакану і коли зловив би розбиття то вернувся б до алгоритму який застосував у попередній задачі тобто знайшов поверх з якого б почав спроби з другим стаканом в мене вийшло що це - 10-ий і просувався б до гори шляхом 10+9, 19+8, 27+7, 34+6, 40+5, 45+4. В результаті при найгіршій ситуації спроби виглядали б так 50 - розбив, 10 - розбив, і з 1 по 9 лінійно тобто поверх за поверхом. Максимально в мене вийшло 11 спроб.\n",
        "\n",
        "Відповідь: 11 спроб\n"
      ],
      "metadata": {
        "id": "cco6yg2v16YQ"
      }
    }
  ]
}