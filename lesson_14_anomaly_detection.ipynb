{
  "nbformat": 4,
  "nbformat_minor": 0,
  "metadata": {
    "colab": {
      "provenance": [],
      "authorship_tag": "ABX9TyPcpxIiPsXZaMBJ3C36uH+X",
      "include_colab_link": true
    },
    "kernelspec": {
      "name": "python3",
      "display_name": "Python 3"
    },
    "language_info": {
      "name": "python"
    }
  },
  "cells": [
    {
      "cell_type": "markdown",
      "metadata": {
        "id": "view-in-github",
        "colab_type": "text"
      },
      "source": [
        "<a href=\"https://colab.research.google.com/github/KuzmenkoO/amazinum_home_work/blob/main/lesson_14_anomaly_detection.ipynb\" target=\"_parent\"><img src=\"https://colab.research.google.com/assets/colab-badge.svg\" alt=\"Open In Colab\"/></a>"
      ]
    },
    {
      "cell_type": "code",
      "source": [
        "import pandas as pd\n",
        "import numpy as np\n",
        "import matplotlib.pyplot as plt\n",
        "from sklearn.model_selection import train_test_split\n",
        "from sklearn.covariance import EllipticEnvelope\n",
        "from sklearn.ensemble import IsolationForest\n",
        "from sklearn.neighbors import LocalOutlierFactor\n",
        "from sklearn.svm import OneClassSVM\n",
        "from sklearn.cluster import DBSCAN\n",
        "from sklearn.metrics import accuracy_score, precision_score, recall_score, f1_score\n",
        "from sklearn.preprocessing import StandardScaler\n",
        "\n",
        "\n",
        "df = pd.read_csv('creditcard.csv')\n",
        "df.drop_duplicates(inplace=True)\n",
        "\n",
        "X = df[['V10', 'V14', 'V4', 'V12', 'V11', 'V17']]\n",
        "y = df['Class']"
      ],
      "metadata": {
        "id": "3nq84lBHOrv7"
      },
      "execution_count": 3,
      "outputs": []
    },
    {
      "cell_type": "code",
      "source": [
        "scaler = StandardScaler()\n",
        "X_scaled = scaler.fit_transform(X)\n",
        "\n",
        "X_train, X_test, y_train, y_test = train_test_split(X_scaled, y, test_size=0.3, stratify=y, random_state=42)"
      ],
      "metadata": {
        "id": "pZqmRaVBOx_Z"
      },
      "execution_count": 4,
      "outputs": []
    },
    {
      "cell_type": "code",
      "source": [
        "def evaluate_model(model, model_name):\n",
        "    model.fit(X_train)\n",
        "\n",
        "    if model_name == \"LocalOutlierFactor\":\n",
        "        y_pred = model.fit_predict(X_test)\n",
        "    else:\n",
        "        y_pred = model.predict(X_test)\n",
        "\n",
        "    y_pred = np.where(y_pred == -1, 1, 0)\n",
        "\n",
        "    accuracy = accuracy_score(y_test, y_pred)\n",
        "    precision = precision_score(y_test, y_pred)\n",
        "    recall = recall_score(y_test, y_pred)\n",
        "    f1 = f1_score(y_test, y_pred)\n",
        "\n",
        "    print(f\"\\nРезультати для {model_name}:\")\n",
        "    print(f\"Accuracy: {accuracy:.5f}\")\n",
        "    print(f\"Precision: {precision:.5f}\")\n",
        "    print(f\"Recall: {recall:.5f}\")\n",
        "    print(f\"F1 Score: {f1:.5f}\")\n"
      ],
      "metadata": {
        "id": "EgjVHHk5O4_8"
      },
      "execution_count": 5,
      "outputs": []
    },
    {
      "cell_type": "markdown",
      "source": [
        "EllipticEnvelope"
      ],
      "metadata": {
        "id": "D8Rg93XjO-e_"
      }
    },
    {
      "cell_type": "code",
      "source": [
        "elliptic_env = EllipticEnvelope(contamination=0.001, support_fraction=0.8)\n",
        "evaluate_model(elliptic_env, \"EllipticEnvelope\")"
      ],
      "metadata": {
        "colab": {
          "base_uri": "https://localhost:8080/"
        },
        "id": "jobZnL8LO6RF",
        "outputId": "a45eed5b-55a0-426d-cae3-6885b1233fab"
      },
      "execution_count": 5,
      "outputs": [
        {
          "output_type": "stream",
          "name": "stdout",
          "text": [
            "\n",
            "Результати для EllipticEnvelope:\n",
            "Accuracy: 0.99892\n",
            "Precision: 0.82895\n",
            "Recall: 0.44366\n",
            "F1 Score: 0.57798\n"
          ]
        }
      ]
    },
    {
      "cell_type": "markdown",
      "source": [
        "IsolationForest"
      ],
      "metadata": {
        "id": "WxumHYChPFJC"
      }
    },
    {
      "cell_type": "code",
      "source": [
        "iso_forest = IsolationForest(n_estimators=300, contamination=0.001, random_state=42)\n",
        "evaluate_model(iso_forest, \"IsolationForest\")"
      ],
      "metadata": {
        "colab": {
          "base_uri": "https://localhost:8080/"
        },
        "id": "PTn2UXL0PG6y",
        "outputId": "3daae519-26c3-4ea6-dde6-e4ed576bfda0"
      },
      "execution_count": 6,
      "outputs": [
        {
          "output_type": "stream",
          "name": "stdout",
          "text": [
            "\n",
            "Результати для IsolationForest:\n",
            "Accuracy: 0.99885\n",
            "Precision: 0.75581\n",
            "Recall: 0.45775\n",
            "F1 Score: 0.57018\n"
          ]
        }
      ]
    },
    {
      "cell_type": "markdown",
      "source": [
        "LocalOutlierFactor"
      ],
      "metadata": {
        "id": "uhlw_delPMAr"
      }
    },
    {
      "cell_type": "code",
      "source": [
        "lof = LocalOutlierFactor(n_neighbors=60, contamination=0.001)\n",
        "evaluate_model(lof, \"LocalOutlierFactor\")"
      ],
      "metadata": {
        "colab": {
          "base_uri": "https://localhost:8080/"
        },
        "id": "hTEFfaSgPNCZ",
        "outputId": "bfcec78a-2ec3-47fe-9510-78ef6b593150"
      },
      "execution_count": 7,
      "outputs": [
        {
          "output_type": "stream",
          "name": "stderr",
          "text": [
            "/usr/local/lib/python3.11/dist-packages/sklearn/neighbors/_lof.py:322: UserWarning: Duplicate values are leading to incorrect results. Increase the number of neighbors for more accurate results.\n",
            "  warnings.warn(\n"
          ]
        },
        {
          "output_type": "stream",
          "name": "stdout",
          "text": [
            "\n",
            "Результати для LocalOutlierFactor:\n",
            "Accuracy: 0.99737\n",
            "Precision: 0.02326\n",
            "Recall: 0.01408\n",
            "F1 Score: 0.01754\n"
          ]
        }
      ]
    },
    {
      "cell_type": "markdown",
      "source": [
        "OneClassSVM"
      ],
      "metadata": {
        "id": "X7IxukDaPUtw"
      }
    },
    {
      "cell_type": "code",
      "source": [
        "one_class_svm = OneClassSVM(nu=0.003, kernel=\"rbf\", gamma=0.05)\n",
        "evaluate_model(one_class_svm, \"OneClassSVM\")"
      ],
      "metadata": {
        "colab": {
          "base_uri": "https://localhost:8080/"
        },
        "id": "3C72qmkAPUSJ",
        "outputId": "7bfd6194-231b-4ce9-c0f1-d4f4f6ccd529"
      },
      "execution_count": 8,
      "outputs": [
        {
          "output_type": "stream",
          "name": "stdout",
          "text": [
            "\n",
            "Результати для OneClassSVM:\n",
            "Accuracy: 0.99692\n",
            "Precision: 0.27444\n",
            "Recall: 0.51408\n",
            "F1 Score: 0.35784\n"
          ]
        }
      ]
    },
    {
      "cell_type": "markdown",
      "source": [
        "DBSCAN"
      ],
      "metadata": {
        "id": "hPkZcH7xPczc"
      }
    },
    {
      "cell_type": "code",
      "source": [
        "dbscan = DBSCAN(eps=1.6, min_samples=12, n_jobs=-1)\n",
        "clusters = dbscan.fit_predict(X_test)\n",
        "dbscan_labels = np.where(clusters == -1, 1, 0)\n",
        "\n",
        "accuracy = accuracy_score(y_test, dbscan_labels)\n",
        "precision = precision_score(y_test, dbscan_labels)\n",
        "recall = recall_score(y_test, dbscan_labels)\n",
        "f1 = f1_score(y_test, dbscan_labels)\n",
        "\n",
        "print(\"\\nРезультати для DBSCAN:\")\n",
        "print(f\"Accuracy: {accuracy:.5f}\")\n",
        "print(f\"Precision: {precision:.5f}\")\n",
        "print(f\"Recall: {recall:.5f}\")\n",
        "print(f\"F1 Score: {f1:.5f}\")"
      ],
      "metadata": {
        "colab": {
          "base_uri": "https://localhost:8080/"
        },
        "id": "RT5Rw64fPePY",
        "outputId": "33e3e232-d979-4a14-aa85-18dcaee8a114"
      },
      "execution_count": 6,
      "outputs": [
        {
          "output_type": "stream",
          "name": "stdout",
          "text": [
            "\n",
            "Результати для DBSCAN:\n",
            "Accuracy: 0.99353\n",
            "Precision: 0.17896\n",
            "Recall: 0.80282\n",
            "F1 Score: 0.29268\n"
          ]
        }
      ]
    },
    {
      "cell_type": "markdown",
      "source": [
        "Висновок:"
      ],
      "metadata": {
        "id": "lXuuQmPQTVcX"
      }
    },
    {
      "cell_type": "markdown",
      "source": [
        "EllipticEnvelope та IsolationForest показали найкращу точність 99.89%. Це означає, що вони добре класифікують транзакції.\n",
        "\n",
        "EllipticEnvelope має вищу Precision 82.9%, що означає, що менше нормальних транзакцій помилково позначено як шахрайські.\n",
        "\n",
        "IsolationForest має вищий Recall 45.8%, що свідчить про те, що він краще знаходить шахрайські транзакції, хоча Precision трохи нижчий.\n",
        "\n",
        "LocalOutlierFactor показав найгірші результати серед усіх моделей.\n",
        "\n",
        "OneClassSVM показав непогані результати з Recall 51.4%, що означає, що він добре знаходить шахрайські транзакції, але Precision 27.4% все ще досить низький, що призводить до великої кількості хибнопозитивних результатів.\n",
        "\n",
        "DBSCAN має найвищий Recall (80.3%), що означає, що він визначає шахрайство дуже ефективно.Однак його Precision 17.9% вказує на те, що модель позначає занадто багато нормальних транзакцій як шахрайські.\n",
        "\n",
        "Підводячи підсумок: EllipticEnvelope та IsolationForest є найбільш збалансованими моделями. Але на мою думку найкраще використати DBSCAN який максимально виловлює шахрайські транзакції але використовувати з ретельно підібраними параметрами, щоб уникнути великої кількості неправильно класифікованих нормальних транзакцій. (на практиці, краще перевірити ці підозрілі транзакції чим пропустити їх, що в банках здійснюється шляхом дзвінка безпеки чи блокуванням до вияснення).\n"
      ],
      "metadata": {
        "id": "353bq1T0TgpP"
      }
    }
  ]
}