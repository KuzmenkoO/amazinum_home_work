{
  "nbformat": 4,
  "nbformat_minor": 0,
  "metadata": {
    "colab": {
      "provenance": [],
      "authorship_tag": "ABX9TyM1YRQA1KpS7/aLG08DdFHP",
      "include_colab_link": true
    },
    "kernelspec": {
      "name": "python3",
      "display_name": "Python 3"
    },
    "language_info": {
      "name": "python"
    }
  },
  "cells": [
    {
      "cell_type": "markdown",
      "metadata": {
        "id": "view-in-github",
        "colab_type": "text"
      },
      "source": [
        "<a href=\"https://colab.research.google.com/github/KuzmenkoO/amazinum_home_work/blob/main/lesson_11_supervised_ml_cover.ipynb\" target=\"_parent\"><img src=\"https://colab.research.google.com/assets/colab-badge.svg\" alt=\"Open In Colab\"/></a>"
      ]
    },
    {
      "cell_type": "code",
      "source": [
        "import pandas as pd\n",
        "import  os\n",
        "from sklearn.linear_model import LogisticRegression\n",
        "from sklearn.ensemble import RandomForestClassifier, GradientBoostingClassifier\n",
        "from sklearn.svm import SVC\n",
        "from sklearn.preprocessing import StandardScaler\n",
        "from sklearn.model_selection import train_test_split\n",
        "from sklearn.metrics import accuracy_score, classification_report\n",
        "\n",
        "\n",
        "cwd =  os.getcwd ()\n",
        "path = os.path.join (cwd, 'titanic')\n",
        "train_df = pd.read_csv(os.path.join(path, 'train.csv'))\n",
        "test_df = pd.read_csv(os.path.join(path, 'test.csv'))\n",
        "\n",
        "data = pd.concat([train_df, test_df], sort=False)\n",
        "\n",
        "data['Age'] = data['Age'].fillna(data['Age'].median())\n",
        "data['Fare'] = data['Fare'].fillna(data['Fare'].median())\n",
        "data['Embarked'] = data['Embarked'].fillna(data['Embarked'].mode()[0])\n",
        "\n",
        "data['Sex'] = data['Sex'].map({'male': 1, 'female': 0})\n",
        "data['Embarked'] = data['Embarked'].map({'C': 0, 'Q': 1, 'S': 2})\n",
        "data['FamilySize'] = data['SibSp'] + data['Parch'] + 1\n",
        "\n",
        "features = ['Pclass', 'Sex', 'Age', 'Fare', 'Embarked', 'FamilySize']\n",
        "X = data.loc[data['Survived'].notna(), features]\n",
        "y = data.loc[data['Survived'].notna(), 'Survived'].astype(int)\n",
        "X_test_final = data.loc[data['Survived'].isna(), features]\n",
        "PassengerId_test = data.loc[data['Survived'].isna(), 'PassengerId']\n",
        "\n",
        "scaler = StandardScaler()\n",
        "X_scaled = scaler.fit_transform(X)\n",
        "X_test_scaled = scaler.transform(X_test_final)\n",
        "\n",
        "X_train, X_test, y_train, y_test = train_test_split(X_scaled, y, test_size=0.2, random_state=0)\n",
        "\n",
        "models = {\n",
        "    \"LogisticRegression\": LogisticRegression(max_iter=1000),\n",
        "    \"RandomForestClassifier\": RandomForestClassifier(n_estimators=100, random_state=0),\n",
        "    \"SVC\": SVC(probability=True),\n",
        "    \"GradientBoostingClassifier\": GradientBoostingClassifier()\n",
        "}\n",
        "\n",
        "results = {}\n",
        "for name, model in models.items():\n",
        "    model.fit(X_train, y_train)\n",
        "    preds = model.predict(X_test)\n",
        "    acc = accuracy_score(y_test, preds)\n",
        "    results[name] = acc\n",
        "\n",
        "best_model_name = max(results, key=results.get)\n",
        "best_model = models[best_model_name]\n",
        "\n",
        "best_model.fit(X_scaled, y)\n",
        "\n",
        "final_preds = best_model.predict(X_test_scaled)\n",
        "\n",
        "print(\"Оцінка класифікаторів:\")\n",
        "for name, acc in results.items():\n",
        "    print(f\"{name}: {acc:.4f}\")\n",
        "print(f\"\\nНайкраща модель: {best_model_name}\")\n",
        "print(\"\\nЗвіт класифікації:\")\n",
        "print(classification_report(y_test, best_model.predict(X_test)))\n"
      ],
      "metadata": {
        "colab": {
          "base_uri": "https://localhost:8080/"
        },
        "id": "tsT09WSSaoG4",
        "outputId": "feba61b4-2181-42af-a53f-cd391d5128f3"
      },
      "execution_count": 1,
      "outputs": [
        {
          "output_type": "stream",
          "name": "stdout",
          "text": [
            "Оцінка класифікаторів:\n",
            "LogisticRegression: 0.8045\n",
            "RandomForestClassifier: 0.8492\n",
            "SVC: 0.8045\n",
            "GradientBoostingClassifier: 0.8547\n",
            "\n",
            "Найкраща модель: GradientBoostingClassifier\n",
            "\n",
            "Звіт класифікації:\n",
            "              precision    recall  f1-score   support\n",
            "\n",
            "           0       0.88      0.96      0.92       110\n",
            "           1       0.93      0.78      0.85        69\n",
            "\n",
            "    accuracy                           0.89       179\n",
            "   macro avg       0.90      0.87      0.88       179\n",
            "weighted avg       0.90      0.89      0.89       179\n",
            "\n"
          ]
        }
      ]
    }
  ]
}