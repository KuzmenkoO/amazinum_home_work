{
  "nbformat": 4,
  "nbformat_minor": 0,
  "metadata": {
    "colab": {
      "provenance": [],
      "authorship_tag": "ABX9TyOqeNq1YcRIoQJ05tls2fwC",
      "include_colab_link": true
    },
    "kernelspec": {
      "name": "python3",
      "display_name": "Python 3"
    },
    "language_info": {
      "name": "python"
    }
  },
  "cells": [
    {
      "cell_type": "markdown",
      "metadata": {
        "id": "view-in-github",
        "colab_type": "text"
      },
      "source": [
        "<a href=\"https://colab.research.google.com/github/KuzmenkoO/amazinum_home_work/blob/main/lesson_17_apriori.ipynb\" target=\"_parent\"><img src=\"https://colab.research.google.com/assets/colab-badge.svg\" alt=\"Open In Colab\"/></a>"
      ]
    },
    {
      "cell_type": "code",
      "source": [
        "!pip install apyori"
      ],
      "metadata": {
        "id": "F63bWCRHvy45"
      },
      "execution_count": null,
      "outputs": []
    },
    {
      "cell_type": "code",
      "execution_count": 4,
      "metadata": {
        "colab": {
          "base_uri": "https://localhost:8080/"
        },
        "id": "7OxyuVUjvZ0K",
        "outputId": "6b4abbfa-1874-4f2d-f2f0-798e7d5bb764"
      },
      "outputs": [
        {
          "output_type": "stream",
          "name": "stdout",
          "text": [
            "rule.items= ['other vegetables', 'frankfurter']\n",
            "rule.support= 0.005146026866270133\n",
            "\titems_base= ['frankfurter']\n",
            "\tlifted_item = ['other vegetables']\n",
            "\tlift= 1.1161495948191098\n",
            "\tconfidence (i.e. cond prob ['other vegetables'] if ['frankfurter'])= 0.13628318584070798\n",
            "\n",
            "\n",
            "rule.items= ['beverages', 'soda']\n",
            "rule.support= 0.001871282496825503\n",
            "\titems_base= ['beverages']\n",
            "\tlifted_item = ['soda']\n",
            "\tlift= 1.1626778855760054\n",
            "\tconfidence (i.e. cond prob ['soda'] if ['beverages'])= 0.11290322580645162\n",
            "\n",
            "\n",
            "rule.items= ['oil', 'soda']\n",
            "rule.support= 0.001804450979081735\n",
            "\titems_base= ['oil']\n",
            "\tlifted_item = ['soda']\n",
            "\tlift= 1.246843549298035\n",
            "\tconfidence (i.e. cond prob ['soda'] if ['oil'])= 0.12107623318385649\n",
            "\n",
            "\n",
            "rule.items= ['whole milk', 'semi-finished bread']\n",
            "rule.support= 0.001670787943594199\n",
            "\titems_base= ['semi-finished bread']\n",
            "\tlifted_item = ['whole milk']\n",
            "\tlift= 1.1148247930239072\n",
            "\tconfidence (i.e. cond prob ['whole milk'] if ['semi-finished bread'])= 0.176056338028169\n",
            "\n",
            "\n",
            "rule.items= ['processed cheese', 'rolls/buns']\n",
            "rule.support= 0.0014702933903628951\n",
            "\titems_base= ['processed cheese']\n",
            "\tlifted_item = ['rolls/buns']\n",
            "\tlift= 1.315733516659206\n",
            "\tconfidence (i.e. cond prob ['rolls/buns'] if ['processed cheese'])= 0.14473684210526316\n",
            "\n",
            "\n",
            "rule.items= ['sausage', 'yogurt', 'whole milk']\n",
            "rule.support= 0.0014702933903628951\n",
            "\titems_base= ['sausage', 'whole milk']\n",
            "\tlifted_item = ['yogurt']\n",
            "\tlift= 1.9117602648237413\n",
            "\tconfidence (i.e. cond prob ['yogurt'] if ['sausage', 'whole milk'])= 0.16417910447761194\n",
            "\n",
            "\n",
            "\titems_base= ['sausage', 'yogurt']\n",
            "\tlifted_item = ['whole milk']\n",
            "\tlift= 1.6198663504217148\n",
            "\tconfidence (i.e. cond prob ['whole milk'] if ['sausage', 'yogurt'])= 0.2558139534883721\n",
            "\n",
            "\n",
            "\titems_base= ['whole milk', 'yogurt']\n",
            "\tlifted_item = ['sausage']\n",
            "\tlift= 2.1829165589087607\n",
            "\tconfidence (i.e. cond prob ['sausage'] if ['whole milk', 'yogurt'])= 0.1317365269461078\n",
            "\n",
            "\n",
            "rule.items= ['chewing gum', 'yogurt']\n",
            "rule.support= 0.001403461872619127\n",
            "\titems_base= ['chewing gum']\n",
            "\tlifted_item = ['yogurt']\n",
            "\tlift= 1.358508430609598\n",
            "\tconfidence (i.e. cond prob ['yogurt'] if ['chewing gum'])= 0.11666666666666667\n",
            "\n",
            "\n",
            "rule.items= ['rolls/buns', 'red/blush wine']\n",
            "rule.support= 0.0013366303548753592\n",
            "\titems_base= ['red/blush wine']\n",
            "\tlifted_item = ['rolls/buns']\n",
            "\tlift= 1.158028341240297\n",
            "\tconfidence (i.e. cond prob ['rolls/buns'] if ['red/blush wine'])= 0.12738853503184713\n",
            "\n",
            "\n",
            "rule.items= ['soft cheese', 'yogurt']\n",
            "rule.support= 0.0012697988371315912\n",
            "\titems_base= ['soft cheese']\n",
            "\tlifted_item = ['yogurt']\n",
            "\tlift= 1.4749520103761347\n",
            "\tconfidence (i.e. cond prob ['yogurt'] if ['soft cheese'])= 0.12666666666666665\n",
            "\n",
            "\n",
            "rule.items= ['packaged fruit/vegetables', 'rolls/buns']\n",
            "rule.support= 0.0012029673193878234\n",
            "\titems_base= ['packaged fruit/vegetables']\n",
            "\tlifted_item = ['rolls/buns']\n",
            "\tlift= 1.2884205087972755\n",
            "\tconfidence (i.e. cond prob ['rolls/buns'] if ['packaged fruit/vegetables'])= 0.14173228346456695\n",
            "\n",
            "\n"
          ]
        }
      ],
      "source": [
        "import pandas as pd\n",
        "from apyori import apriori\n",
        "\n",
        "\n",
        "df = pd.read_csv('Groceries_dataset.csv')\n",
        "df.head()\n",
        "\n",
        "transactions = df.groupby(['Member_number', 'Date'])['itemDescription'].apply(list).tolist()\n",
        "\n",
        "rules = apriori(transactions, min_support=0.001, min_confidence=0.1, min_lift=1.1, min_length=2)\n",
        "results = list(rules)\n",
        "\n",
        "top_rules = sorted(results, key=lambda x: x.support, reverse=True)[:10]\n",
        "\n",
        "def print_rules(rules):\n",
        "    for rule in rules:\n",
        "        print('rule.items=', list(rule.items))\n",
        "        print('rule.support=', rule.support)\n",
        "\n",
        "        for os in rule.ordered_statistics:\n",
        "            print('\\titems_base=', list(os.items_base))\n",
        "            print('\\tlifted_item =', list(os.items_add))\n",
        "            print('\\tlift=', os.lift)\n",
        "            print('\\tconfidence (i.e. cond prob {} if {})='.format(list(os.items_add), list(os.items_base)),\n",
        "                  os.confidence)\n",
        "            print('\\n')\n",
        "\n",
        "print_rules(top_rules)\n"
      ]
    }
  ]
}