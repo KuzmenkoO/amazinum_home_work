{
  "nbformat": 4,
  "nbformat_minor": 0,
  "metadata": {
    "colab": {
      "provenance": [],
      "authorship_tag": "ABX9TyNNCh2k1SO2Q4iq5fEfoFMX",
      "include_colab_link": true
    },
    "kernelspec": {
      "name": "python3",
      "display_name": "Python 3"
    },
    "language_info": {
      "name": "python"
    }
  },
  "cells": [
    {
      "cell_type": "markdown",
      "metadata": {
        "id": "view-in-github",
        "colab_type": "text"
      },
      "source": [
        "<a href=\"https://colab.research.google.com/github/KuzmenkoO/amazinum_home_work/blob/main/lesson_6_lin_reg.ipynb\" target=\"_parent\"><img src=\"https://colab.research.google.com/assets/colab-badge.svg\" alt=\"Open In Colab\"/></a>"
      ]
    },
    {
      "cell_type": "code",
      "execution_count": 1,
      "metadata": {
        "colab": {
          "base_uri": "https://localhost:8080/"
        },
        "id": "DX54Vkw2O1_V",
        "outputId": "6861c3f7-4014-4bfe-8f7a-b83d5938ada1"
      },
      "outputs": [
        {
          "output_type": "stream",
          "name": "stdout",
          "text": [
            "________________________________________________________________________________\n",
            "Ridge\n",
            "R2 train score = 0.5072634835482679\n",
            "R2 test score = 0.5260667062916089\n",
            "b: 149.98791540785498 \n",
            "w= [ -0.90572311 -11.39061084  26.93579377  11.85086621 -17.84354295\n",
            "   8.53902963  -3.14662357   6.51696437  28.8868917    3.77727244]\n",
            "________________________________________________________________________________\n",
            "Lasso\n",
            "R2 train score = 0.5070270881779531\n",
            "R2 test score = 0.5242404860395271\n",
            "b: 149.98791540785498 \n",
            "w= [ -0.76490828 -11.22033592  27.03811279  11.71814353 -13.15171553\n",
            "   4.83073265  -5.0588187    5.82256057  27.2382852    3.66430718]\n",
            "________________________________________________________________________________\n",
            "Polynomial + Linear Regression для degree=2\n",
            "R2 train score = 0.6207810962295995\n",
            "R2 test score = 0.3472243986719129\n",
            "b: 56.362048548295675 \n",
            "w= [ 4.82904572e+00 -1.34320024e+01  2.51030613e+01  1.21881148e+01\n",
            " -8.65976742e+02  7.60127414e+02  3.02674785e+02  7.73307806e+00\n",
            "  3.14772808e+02  4.57742447e+00  6.10793095e+00  8.59747444e+00\n",
            " -3.47177754e-01  2.06155081e+00  1.74978285e+01 -2.48343262e+01\n",
            " -2.37527049e+00  4.48647899e+00  3.03190224e+00 -2.49805348e+00\n",
            " -8.93254882e-01  5.28923349e+00  5.73323610e-01 -1.50195964e+00\n",
            "  4.12955292e+00  2.98802771e-01 -1.57162036e+01  3.84543836e+00\n",
            "  3.68788859e+00  2.68954541e+00  7.15098355e+00 -1.89537763e+00\n",
            "  1.40232499e+00  1.99542345e+00 -2.89554240e+00  9.08436408e-01\n",
            "  1.83187400e+00 -8.28630905e-01  3.38272234e+01 -2.78129418e+01\n",
            " -8.48388798e+00  6.85859998e+00 -1.17762767e+01 -5.07640999e+00\n",
            "  2.00359752e+02 -2.61288845e+02 -1.57334699e+02 -8.24712526e+01\n",
            " -6.02817264e+01 -1.12138150e+01  8.52662820e+01  9.79307899e+01\n",
            "  4.55729780e+01  2.77359426e+01  2.13963433e+00  2.73261684e+01\n",
            "  2.08136306e+01  2.45011799e+01  2.36932745e+01  8.82547288e+00\n",
            "  2.08432223e+01  2.01891331e+01  6.80744885e+01  7.26948006e+00\n",
            "  3.98445581e+00]\n",
            "________________________________________________________________________________\n",
            "Polynomial + Linear Regression degree=1\n",
            "R2 train score = 0.5073693366380001\n",
            "R2 test score = 0.5281729599217633\n",
            "b: 149.98791540785498 \n",
            "w= [ -0.9221571  -11.44072968  26.95503421  11.85769765 -23.83056842\n",
            "  13.18832248  -0.53035841   7.32783676  31.20774897   3.74653988]\n"
          ]
        }
      ],
      "source": [
        "from sklearn.datasets import load_diabetes\n",
        "from sklearn.model_selection import train_test_split\n",
        "from sklearn.preprocessing import StandardScaler, PolynomialFeatures\n",
        "from sklearn.linear_model import Ridge, Lasso, LinearRegression\n",
        "import pandas as pd\n",
        "\n",
        "\n",
        "# Завантажуємо дані та поділяємо на тренувальну і тестову частину\n",
        "diabetes = load_diabetes()\n",
        "X = pd.DataFrame(diabetes.data, columns=diabetes.feature_names)\n",
        "y = pd.Series(diabetes.target, name=\"target\")\n",
        "X_train, X_test, y_train, y_test = train_test_split(X, y, random_state=2021)\n",
        "\n",
        "# Нормалізуємо ознаки для кращої роботи моделей\n",
        "scaler = StandardScaler()\n",
        "X_train_scaled = scaler.fit_transform(X_train)\n",
        "X_test_scaled = scaler.transform(X_test)\n",
        "\n",
        "# Модель Ridge\n",
        "ridge = Ridge()\n",
        "ridge.fit(X_train_scaled, y_train)\n",
        "print(\"________________\" * 5)\n",
        "print('Ridge')\n",
        "print('R2 train score =', ridge.score(X_train_scaled, y_train))\n",
        "print('R2 test score =', ridge.score(X_test_scaled, y_test))\n",
        "print('b: {} \\nw= {}'.format(ridge.intercept_, ridge.coef_))\n",
        "\n",
        "# Модель Lasso\n",
        "lasso = Lasso(alpha=0.1)\n",
        "lasso.fit(X_train_scaled, y_train)\n",
        "print(\"________________\" * 5)\n",
        "print('Lasso')\n",
        "print('R2 train score =', lasso.score(X_train_scaled, y_train))\n",
        "print('R2 test score =', lasso.score(X_test_scaled, y_test))\n",
        "print('b: {} \\nw= {}'.format(lasso.intercept_, lasso.coef_))\n",
        "\n",
        "# Модель Polynomial де degree=2\n",
        "poly = PolynomialFeatures(degree=2, include_bias=False)\n",
        "X_train_poly = poly.fit_transform(X_train_scaled)\n",
        "X_test_poly = poly.transform(X_test_scaled)\n",
        "poly_lin_reg = LinearRegression().fit(X_train_poly, y_train)\n",
        "print(\"________________\" * 5)\n",
        "print('Polynomial + Linear Regression для degree=2')\n",
        "print('R2 train score =', poly_lin_reg.score(X_train_poly, y_train))\n",
        "print('R2 test score =', poly_lin_reg.score(X_test_poly, y_test))\n",
        "print('b: {} \\nw= {}'.format(poly_lin_reg.intercept_, poly_lin_reg.coef_))\n",
        "\n",
        "# Модель Polynomial де degree=1\n",
        "poly = PolynomialFeatures(degree=1, include_bias=False)\n",
        "X_train_poly = poly.fit_transform(X_train_scaled)\n",
        "X_test_poly = poly.transform(X_test_scaled)\n",
        "poly_lin_reg = LinearRegression().fit(X_train_poly, y_train)\n",
        "print(\"________________\" * 5)\n",
        "print('Polynomial + Linear Regression degree=1')\n",
        "print('R2 train score =', poly_lin_reg.score(X_train_poly, y_train))\n",
        "print('R2 test score =', poly_lin_reg.score(X_test_poly, y_test))\n",
        "print('b: {} \\nw= {}'.format(poly_lin_reg.intercept_, poly_lin_reg.coef_))\n"
      ]
    }
  ]
}