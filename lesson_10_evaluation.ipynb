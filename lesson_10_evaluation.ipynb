{
  "nbformat": 4,
  "nbformat_minor": 0,
  "metadata": {
    "colab": {
      "provenance": [],
      "authorship_tag": "ABX9TyMxd9Y+PZT/vnCCWXLeEsAN",
      "include_colab_link": true
    },
    "kernelspec": {
      "name": "python3",
      "display_name": "Python 3"
    },
    "language_info": {
      "name": "python"
    }
  },
  "cells": [
    {
      "cell_type": "markdown",
      "metadata": {
        "id": "view-in-github",
        "colab_type": "text"
      },
      "source": [
        "<a href=\"https://colab.research.google.com/github/KuzmenkoO/amazinum_home_work/blob/main/lesson_10_evaluation.ipynb\" target=\"_parent\"><img src=\"https://colab.research.google.com/assets/colab-badge.svg\" alt=\"Open In Colab\"/></a>"
      ]
    },
    {
      "cell_type": "code",
      "execution_count": 1,
      "metadata": {
        "colab": {
          "base_uri": "https://localhost:8080/"
        },
        "id": "iEaz8UmEmJ5S",
        "outputId": "c2b55611-263f-4f44-b764-96f0b6f41384"
      },
      "outputs": [
        {
          "output_type": "stream",
          "name": "stdout",
          "text": [
            "Logistic Regression: Breast Cancer\n",
            "Accuracy: 0.9473684210526315\n",
            "Precision: 0.9841269841269841\n",
            "Recall: 0.9253731343283582\n",
            "F1 Score: 0.9538461538461539\n",
            "ROC AUC: 0.9936487773896475\n",
            "Confusion Matrix:\n",
            " [[46  1]\n",
            " [ 5 62]]\n"
          ]
        }
      ],
      "source": [
        "\n",
        "import numpy as np\n",
        "from sklearn.datasets import load_breast_cancer, load_diabetes, fetch_california_housing\n",
        "from sklearn.model_selection import train_test_split\n",
        "from sklearn.linear_model import LogisticRegression, LinearRegression\n",
        "from sklearn.tree import DecisionTreeClassifier, DecisionTreeRegressor\n",
        "from sklearn.metrics import (\n",
        "    accuracy_score, precision_score, recall_score, f1_score, confusion_matrix, roc_auc_score,\n",
        "    mean_absolute_error, mean_squared_error, r2_score\n",
        ")\n",
        "from sklearn.preprocessing import StandardScaler\n",
        "\n",
        "# Logistic Regression: Breast Cancer\n",
        "data = load_breast_cancer()\n",
        "X, y = data.data, data.target\n",
        "X_train, X_test, y_train, y_test = train_test_split(X, y, test_size=0.2, random_state=0)\n",
        "\n",
        "clf = LogisticRegression(max_iter=10000)\n",
        "clf.fit(X_train, y_train)\n",
        "y_pred = clf.predict(X_test)\n",
        "y_prob = clf.predict_proba(X_test)[:, 1]\n",
        "\n",
        "print(\"Logistic Regression: Breast Cancer\")\n",
        "print(\"Accuracy:\", accuracy_score(y_test, y_pred))\n",
        "print(\"Precision:\", precision_score(y_test, y_pred))\n",
        "print(\"Recall:\", recall_score(y_test, y_pred))\n",
        "print(\"F1 Score:\", f1_score(y_test, y_pred))\n",
        "print(\"ROC AUC:\", roc_auc_score(y_test, y_prob))\n",
        "print(\"Confusion Matrix:\\n\", confusion_matrix(y_test, y_pred))\n"
      ]
    },
    {
      "cell_type": "code",
      "source": [
        "\n",
        "# Decision Tree Classifier: Breast Cancer\n",
        "clf_tree = DecisionTreeClassifier(max_depth=5, random_state=0)\n",
        "clf_tree.fit(X_train, y_train)\n",
        "y_pred_tree = clf_tree.predict(X_test)\n",
        "y_prob_tree = clf_tree.predict_proba(X_test)[:, 1]\n",
        "\n",
        "print(\"\\nDecision Tree Classifier: Breast Cancer\")\n",
        "print(\"Accuracy:\", accuracy_score(y_test, y_pred_tree))\n",
        "print(\"Precision:\", precision_score(y_test, y_pred_tree))\n",
        "print(\"Recall:\", recall_score(y_test, y_pred_tree))\n",
        "print(\"F1 Score:\", f1_score(y_test, y_pred_tree))\n",
        "print(\"ROC AUC:\", roc_auc_score(y_test, y_prob_tree))\n",
        "print(\"Confusion Matrix:\\n\", confusion_matrix(y_test, y_pred_tree))\n"
      ],
      "metadata": {
        "colab": {
          "base_uri": "https://localhost:8080/"
        },
        "id": "QPkkGb0GmVIo",
        "outputId": "0428d69d-44d9-45fa-d594-b8684ad278cd"
      },
      "execution_count": 2,
      "outputs": [
        {
          "output_type": "stream",
          "name": "stdout",
          "text": [
            "\n",
            "Decision Tree Classifier: Breast Cancer\n",
            "Accuracy: 0.9473684210526315\n",
            "Precision: 0.9552238805970149\n",
            "Recall: 0.9552238805970149\n",
            "F1 Score: 0.9552238805970149\n",
            "ROC AUC: 0.9266433788504287\n",
            "Confusion Matrix:\n",
            " [[44  3]\n",
            " [ 3 64]]\n"
          ]
        }
      ]
    },
    {
      "cell_type": "code",
      "source": [
        "# Linear Regression: Diabetes\n",
        "diabetes = load_diabetes()\n",
        "X, y = diabetes.data, diabetes.target\n",
        "scaler = StandardScaler()\n",
        "X_scaled = scaler.fit_transform(X)\n",
        "\n",
        "X_train, X_test, y_train, y_test = train_test_split(X_scaled, y, test_size=0.2, random_state=0)\n",
        "\n",
        "reg = LinearRegression()\n",
        "reg.fit(X_train, y_train)\n",
        "y_pred = reg.predict(X_test)\n",
        "\n",
        "print(\"\\nLinear Regression: Diabetes\")\n",
        "print(\"MAE:\", mean_absolute_error(y_test, y_pred))\n",
        "print(\"MSE:\", mean_squared_error(y_test, y_pred))\n",
        "print(\"RMSE:\", np.sqrt(mean_squared_error(y_test, y_pred)))\n",
        "print(\"R2 Score:\", r2_score(y_test, y_pred))\n"
      ],
      "metadata": {
        "colab": {
          "base_uri": "https://localhost:8080/"
        },
        "id": "MLaX2ftgmeUz",
        "outputId": "35e51b9f-aa7a-4ea2-c958-f272034961d7"
      },
      "execution_count": 3,
      "outputs": [
        {
          "output_type": "stream",
          "name": "stdout",
          "text": [
            "\n",
            "Linear Regression: Diabetes\n",
            "MAE: 46.1735850037048\n",
            "MSE: 3424.259334298694\n",
            "RMSE: 58.51717127731563\n",
            "R2 Score: 0.33223321731061806\n"
          ]
        }
      ]
    },
    {
      "cell_type": "code",
      "source": [
        "# Decision Tree Regressor: California Housing\n",
        "housing = fetch_california_housing()\n",
        "X, y = housing.data, housing.target\n",
        "X, _, y, _ = train_test_split(X, y, train_size=5000, random_state=0)\n",
        "\n",
        "X_train, X_test, y_train, y_test = train_test_split(X, y, test_size=0.2, random_state=0)\n",
        "\n",
        "tree_reg = DecisionTreeRegressor(max_depth=6)\n",
        "tree_reg.fit(X_train, y_train)\n",
        "y_pred = tree_reg.predict(X_test)\n",
        "\n",
        "print(\"\\nDecision Tree Regressor: California Housing\")\n",
        "print(\"MAE:\", mean_absolute_error(y_test, y_pred))\n",
        "print(\"MSE:\", mean_squared_error(y_test, y_pred))\n",
        "print(\"RMSE:\", np.sqrt(mean_squared_error(y_test, y_pred)))\n",
        "print(\"R2 Score:\", r2_score(y_test, y_pred))"
      ],
      "metadata": {
        "colab": {
          "base_uri": "https://localhost:8080/"
        },
        "id": "GhZz9o8amhI7",
        "outputId": "869e83c4-27bc-48e2-bdd7-887edfe4f7f7"
      },
      "execution_count": 4,
      "outputs": [
        {
          "output_type": "stream",
          "name": "stdout",
          "text": [
            "\n",
            "Decision Tree Regressor: California Housing\n",
            "MAE: 0.5150575077374525\n",
            "MSE: 0.508654422092013\n",
            "RMSE: 0.7132001276584384\n",
            "R2 Score: 0.6286694615521109\n"
          ]
        }
      ]
    }
  ]
}