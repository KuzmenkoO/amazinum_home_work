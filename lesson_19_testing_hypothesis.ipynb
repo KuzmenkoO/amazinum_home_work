{
  "nbformat": 4,
  "nbformat_minor": 0,
  "metadata": {
    "colab": {
      "provenance": [],
      "authorship_tag": "ABX9TyMbi4QwE+hzeOUnc729zqLr",
      "include_colab_link": true
    },
    "kernelspec": {
      "name": "python3",
      "display_name": "Python 3"
    },
    "language_info": {
      "name": "python"
    }
  },
  "cells": [
    {
      "cell_type": "markdown",
      "metadata": {
        "id": "view-in-github",
        "colab_type": "text"
      },
      "source": [
        "<a href=\"https://colab.research.google.com/github/KuzmenkoO/amazinum_home_work/blob/main/lesson_19_testing_hypothesis.ipynb\" target=\"_parent\"><img src=\"https://colab.research.google.com/assets/colab-badge.svg\" alt=\"Open In Colab\"/></a>"
      ]
    },
    {
      "cell_type": "markdown",
      "source": [
        "**Task 1**"
      ],
      "metadata": {
        "id": "scB3W2vVndg3"
      }
    },
    {
      "cell_type": "markdown",
      "source": [
        "1. Формулювання гіпотез:\n",
        "\n",
        "Гіпотези:\n",
        "\n",
        "Нульова гіпотеза (H₀): Середній рівень залученості користувачів однаковий для груп.\n",
        "\n",
        "Альтернативна гіпотеза (H₁): Середній рівень залученості користувачів відрізняється між 'Organic Search' і 'Direct'."
      ],
      "metadata": {
        "id": "ec6zccsRn5SL"
      }
    },
    {
      "cell_type": "markdown",
      "source": [
        "2. Статистичне тестування"
      ],
      "metadata": {
        "id": "ncq4o1AEom1K"
      }
    },
    {
      "cell_type": "code",
      "source": [
        "import pandas as pd\n",
        "from scipy.stats import ttest_ind  # Імпортуємо тільки t-тест\n",
        "\n",
        "\n",
        "df = pd.read_csv(\"data-export.csv\", skiprows=1)\n",
        "\n",
        "group1 = df[df['Session primary channel group (Default channel group)'] == 'Referral']['Engagement rate']\n",
        "group2 = df[df['Session primary channel group (Default channel group)'] == 'Organic Video']['Engagement rate']\n",
        "\n",
        "t_stat, p_value = ttest_ind(group1, group2)\n",
        "\n",
        "print(f\"T-статистика: {t_stat:.4f}\")\n",
        "print(f\"P-значення: {p_value:.4f}\")\n",
        "\n",
        "alpha = 0.05\n",
        "if p_value < alpha:\n",
        "    print(\"Приймаємо альтернативну гіпотезу - рівень залученості значно відрізняється між 'Organic Search' та 'Direct'.\")\n",
        "    print(\"Висновок: канал з вищою залученістю може бути більш ефективним для залучення користувачів.\")\n",
        "else:\n",
        "    print(\"Приймаємо нульову гіпотезу - рівень залученості між 'Organic Search' та 'Direct' статистично не відрізняється.\")\n",
        "    print(\"Практичний висновок: обидва канали можуть мати схожий ефект на взаємодію користувачів.\")\n",
        "\n",
        "engagement_stats = df.groupby('Session primary channel group (Default channel group)')['Engagement rate'].agg(['mean', 'std', 'count'])\n",
        "print(\"\\nАналіз залученості користувачів за каналами:\")\n",
        "print(engagement_stats)\n"
      ],
      "metadata": {
        "colab": {
          "base_uri": "https://localhost:8080/"
        },
        "id": "rRLjlZNrnhna",
        "outputId": "710e0e71-b0b5-467a-b9c7-d863b0b8bbca"
      },
      "execution_count": 1,
      "outputs": [
        {
          "output_type": "stream",
          "name": "stdout",
          "text": [
            "T-статистика: -5.4889\n",
            "P-значення: 0.0000\n",
            "Приймаємо альтернативну гіпотезу - рівень залученості значно відрізняється між 'Organic Search' та 'Direct'.\n",
            "Висновок: канал з вищою залученістю може бути більш ефективним для залучення користувачів.\n",
            "\n",
            "Аналіз залученості користувачів за каналами:\n",
            "                                                        mean       std  count\n",
            "Session primary channel group (Default channel ...                           \n",
            "Direct                                              0.455723  0.083679    672\n",
            "Email                                               0.333333  0.577350      3\n",
            "Organic Search                                      0.578906  0.081902    672\n",
            "Organic Social                                      0.541180  0.085262    672\n",
            "Organic Video                                       0.760000  0.424074    125\n",
            "Referral                                            0.660882  0.086514    672\n",
            "Unassigned                                          0.007514  0.079240    366\n"
          ]
        }
      ]
    },
    {
      "cell_type": "markdown",
      "source": [
        "\n",
        "Найефективніші канали:\n",
        "\n",
        "Organic Video (mean = 0.76) – найвищий рівень залученості. Користувачі, які приходять через відеоконтент, активно взаємодіють із сайтом.\n",
        "\n",
        "Referral (mean = 0.66) – трафік з інших сайтів також показує високий рівень залучення.\n",
        "\n",
        "Organic Search (mean = 0.58)\n",
        "\n",
        "Середні показники залученості:\n",
        "\n",
        "Organic Social (mean = 0.54) – соцмережі забезпечують непоганий рівень залученості.\n",
        "\n",
        "Direct (mean = 0.45) – прямий трафік показує стабільний, але не найкращий рівень взаємодії.\n",
        "\n",
        "Найнижчі показники залученості:\n",
        "\n",
        "Email (mean = 0.33, count = 3) – занадто мало спостережень для достовірних висновків.\n",
        "\n",
        "Висновок: Варто розвивати фокус на ефективні канали – Organic Video, Referral і Organic Search . Потрібно перевірити причини слабких результатів у Email. Можливе покращення контенту для Direct і Organic Social, щоб підвищити їхню ефективність.\n",
        "\n"
      ],
      "metadata": {
        "id": "tU5Wahb0o4Jj"
      }
    },
    {
      "cell_type": "markdown",
      "source": [
        "___________________________________________________________________________________________________________"
      ],
      "metadata": {
        "id": "3g8EDCG2pMFC"
      }
    },
    {
      "cell_type": "markdown",
      "source": [
        "**Task 2**"
      ],
      "metadata": {
        "id": "Z997OFc2pPut"
      }
    },
    {
      "cell_type": "code",
      "source": [
        "import pandas as pd\n",
        "\n",
        "\n",
        "# 1. Дослідження даних\n",
        "\n",
        "df = pd.read_csv(\"insurance.csv\")\n",
        "print(df.head())\n",
        "print(df.describe())\n"
      ],
      "metadata": {
        "colab": {
          "base_uri": "https://localhost:8080/"
        },
        "id": "alXosrOzr1R9",
        "outputId": "2e617769-410d-4514-8e7c-4d4ab435e8b3"
      },
      "execution_count": 2,
      "outputs": [
        {
          "output_type": "stream",
          "name": "stdout",
          "text": [
            "   age     sex     bmi  children smoker     region      charges\n",
            "0   19  female  27.900         0    yes  southwest  16884.92400\n",
            "1   18    male  33.770         1     no  southeast   1725.55230\n",
            "2   28    male  33.000         3     no  southeast   4449.46200\n",
            "3   33    male  22.705         0     no  northwest  21984.47061\n",
            "4   32    male  28.880         0     no  northwest   3866.85520\n",
            "               age          bmi     children       charges\n",
            "count  1338.000000  1338.000000  1338.000000   1338.000000\n",
            "mean     39.207025    30.663397     1.094918  13270.422265\n",
            "std      14.049960     6.098187     1.205493  12110.011237\n",
            "min      18.000000    15.960000     0.000000   1121.873900\n",
            "25%      27.000000    26.296250     0.000000   4740.287150\n",
            "50%      39.000000    30.400000     1.000000   9382.033000\n",
            "75%      51.000000    34.693750     2.000000  16639.912515\n",
            "max      64.000000    53.130000     5.000000  63770.428010\n"
          ]
        }
      ]
    },
    {
      "cell_type": "code",
      "source": [
        "# 2. Виявлення викидів (IQR)\n",
        "numeric_columns = ['age', 'bmi', 'children', 'charges']\n",
        "\n",
        "# Метод IQR для виявлення викидів\n",
        "def detect_outliers_iqr(data, column):\n",
        "    q1 = data[column].quantile(0.25)\n",
        "    q3 = data[column].quantile(0.75)\n",
        "    iqr = q3 - q1\n",
        "    lower_bound = q1 - 1.5 * iqr\n",
        "    upper_bound = q3 + 1.5 * iqr\n",
        "    outliers = data[(data[column] < lower_bound) | (data[column] > upper_bound)]\n",
        "    return outliers\n",
        "\n",
        "print(\"\\nВиявлені викиди:\")\n",
        "for col in numeric_columns:\n",
        "    outliers = detect_outliers_iqr(df, col)\n",
        "    print(f\"{col}: {outliers.shape[0]} викидів\")\n"
      ],
      "metadata": {
        "colab": {
          "base_uri": "https://localhost:8080/"
        },
        "id": "FGYugPImsEYV",
        "outputId": "78e6b30c-f6f0-4241-cdf2-81c7a378de98"
      },
      "execution_count": 3,
      "outputs": [
        {
          "output_type": "stream",
          "name": "stdout",
          "text": [
            "\n",
            "Виявлені викиди:\n",
            "age: 0 викидів\n",
            "bmi: 9 викидів\n",
            "children: 0 викидів\n",
            "charges: 139 викидів\n"
          ]
        }
      ]
    },
    {
      "cell_type": "code",
      "source": [
        "\n",
        "print(\"\"\"\\nОбґрунтування стратегії очищення:\n",
        "Викиди можуть спотворювати аналіз, особливо медичні витрати (charges), які можуть бути аномально високими для певних груп.\n",
        "Використано метод IQR, щоб видалити екстремальні значення та зменшити їх вплив.\"\"\")\n",
        "\n",
        "# 3. Очищення даних (Видалення викидів)\n",
        "df_cleaned = df.copy()\n",
        "for col in numeric_columns:\n",
        "    Q1 = df_cleaned[col].quantile(0.25)\n",
        "    Q3 = df_cleaned[col].quantile(0.75)\n",
        "    IQR = Q3 - Q1\n",
        "    lower_bound = Q1 - 1.5 * IQR\n",
        "    upper_bound = Q3 + 1.5 * IQR\n",
        "    df_cleaned = df_cleaned[(df_cleaned[col] >= lower_bound) & (df_cleaned[col] <= upper_bound)]\n",
        "\n",
        "print(\"\\nРозмір датасету після очищення:\", df_cleaned.shape)\n",
        "\n",
        "# Перевірка статистики після очищення\n",
        "print(\"\\nОписова статистика після очищення:\")\n",
        "print(df_cleaned.describe())"
      ],
      "metadata": {
        "colab": {
          "base_uri": "https://localhost:8080/"
        },
        "id": "4EdQwQ3JsK0Z",
        "outputId": "464b61f7-fbb9-48ee-b9ab-50150ef52b48"
      },
      "execution_count": 4,
      "outputs": [
        {
          "output_type": "stream",
          "name": "stdout",
          "text": [
            "\n",
            "Обґрунтування стратегії очищення:\n",
            "Викиди можуть спотворювати аналіз, особливо медичні витрати (charges), які можуть бути аномально високими для певних груп.\n",
            "Використано метод IQR, щоб видалити екстремальні значення та зменшити їх вплив.\n",
            "\n",
            "Розмір датасету після очищення: (1191, 7)\n",
            "\n",
            "Описова статистика після очищення:\n",
            "               age          bmi     children       charges\n",
            "count  1191.000000  1191.000000  1191.000000   1191.000000\n",
            "mean     39.010915    29.993648     1.087322   9901.104142\n",
            "std      14.056634     5.870584     1.216455   7187.379901\n",
            "min      18.000000    15.960000     0.000000   1121.873900\n",
            "25%      26.000000    25.800000     0.000000   4408.695900\n",
            "50%      39.000000    29.700000     1.000000   8347.164300\n",
            "75%      51.000000    33.770000     2.000000  12953.594600\n",
            "max      64.000000    46.750000     5.000000  34303.167200\n"
          ]
        }
      ]
    },
    {
      "cell_type": "markdown",
      "source": [
        "___________________________________________________________________________________________________________\n"
      ],
      "metadata": {
        "id": "qMi2RCpjshw0"
      }
    },
    {
      "cell_type": "markdown",
      "source": [
        "**Task 3**"
      ],
      "metadata": {
        "id": "aCMqMfF8slD8"
      }
    },
    {
      "cell_type": "code",
      "source": [
        "pip install factor_analyzer"
      ],
      "metadata": {
        "colab": {
          "base_uri": "https://localhost:8080/"
        },
        "collapsed": true,
        "id": "nOHYgHVSuLW5",
        "outputId": "fac5b674-0496-4bfa-a887-17f0a461f767"
      },
      "execution_count": 8,
      "outputs": [
        {
          "output_type": "stream",
          "name": "stdout",
          "text": [
            "Requirement already satisfied: factor_analyzer in /usr/local/lib/python3.11/dist-packages (0.5.1)\n",
            "Requirement already satisfied: pandas in /usr/local/lib/python3.11/dist-packages (from factor_analyzer) (2.2.2)\n",
            "Requirement already satisfied: scipy in /usr/local/lib/python3.11/dist-packages (from factor_analyzer) (1.15.3)\n",
            "Requirement already satisfied: numpy in /usr/local/lib/python3.11/dist-packages (from factor_analyzer) (2.0.2)\n",
            "Requirement already satisfied: scikit-learn in /usr/local/lib/python3.11/dist-packages (from factor_analyzer) (1.6.1)\n",
            "Requirement already satisfied: python-dateutil>=2.8.2 in /usr/local/lib/python3.11/dist-packages (from pandas->factor_analyzer) (2.9.0.post0)\n",
            "Requirement already satisfied: pytz>=2020.1 in /usr/local/lib/python3.11/dist-packages (from pandas->factor_analyzer) (2025.2)\n",
            "Requirement already satisfied: tzdata>=2022.7 in /usr/local/lib/python3.11/dist-packages (from pandas->factor_analyzer) (2025.2)\n",
            "Requirement already satisfied: joblib>=1.2.0 in /usr/local/lib/python3.11/dist-packages (from scikit-learn->factor_analyzer) (1.5.1)\n",
            "Requirement already satisfied: threadpoolctl>=3.1.0 in /usr/local/lib/python3.11/dist-packages (from scikit-learn->factor_analyzer) (3.6.0)\n",
            "Requirement already satisfied: six>=1.5 in /usr/local/lib/python3.11/dist-packages (from python-dateutil>=2.8.2->pandas->factor_analyzer) (1.17.0)\n"
          ]
        }
      ]
    },
    {
      "cell_type": "code",
      "source": [
        "import pandas as pd\n",
        "import matplotlib.pyplot as plt\n",
        "from sklearn.preprocessing import StandardScaler\n",
        "from factor_analyzer import FactorAnalyzer\n",
        "from factor_analyzer.factor_analyzer import calculate_kmo, calculate_bartlett_sphericity\n",
        "\n",
        "\n",
        "train_df = pd.read_csv(\"train.csv\")\n",
        "test_df = pd.read_csv(\"test.csv\")\n",
        "df = pd.concat([train_df, test_df], ignore_index=True)\n",
        "\n",
        "survey_columns = ['Inflight wifi service', 'Departure/Arrival time convenient', 'Ease of Online booking',\n",
        "                  'Gate location', 'Food and drink', 'Online boarding', 'Seat comfort',\n",
        "                  'Inflight entertainment', 'On-board service', 'Leg room service',\n",
        "                  'Baggage handling', 'Checkin service', 'Inflight service', 'Cleanliness']\n",
        "\n",
        "survey_data = df[survey_columns]\n",
        "\n",
        "print(\"\\nПеревірка пропущених значень:\")\n",
        "print(survey_data.isnull().sum())\n",
        "\n",
        "survey_data = survey_data.copy()\n",
        "survey_data.fillna(survey_data.median(), inplace=True)\n",
        "\n",
        "scaler = StandardScaler()\n",
        "survey_data_scaled = scaler.fit_transform(survey_data)"
      ],
      "metadata": {
        "colab": {
          "base_uri": "https://localhost:8080/"
        },
        "id": "5yQzyMURsxec",
        "outputId": "079df0ec-f385-4f57-d5aa-c794af1cd602"
      },
      "execution_count": 9,
      "outputs": [
        {
          "output_type": "stream",
          "name": "stdout",
          "text": [
            "\n",
            "Перевірка пропущених значень:\n",
            "Inflight wifi service                0\n",
            "Departure/Arrival time convenient    0\n",
            "Ease of Online booking               0\n",
            "Gate location                        0\n",
            "Food and drink                       0\n",
            "Online boarding                      0\n",
            "Seat comfort                         0\n",
            "Inflight entertainment               0\n",
            "On-board service                     0\n",
            "Leg room service                     0\n",
            "Baggage handling                     0\n",
            "Checkin service                      0\n",
            "Inflight service                     0\n",
            "Cleanliness                          0\n",
            "dtype: int64\n"
          ]
        }
      ]
    },
    {
      "cell_type": "code",
      "source": [
        "kmo_all, kmo_model = calculate_kmo(survey_data_scaled)\n",
        "print(f\"KMO Score: {kmo_model:.3f} (має бути > 0.6 для якісного аналізу)\")\n",
        "bartlett_chi_square_value, bartlett_p_value = calculate_bartlett_sphericity(survey_data_scaled)\n",
        "print(f\"Bartlett's Test p-value: {bartlett_p_value:.3f} (< 0.05 means suitable)\")\n"
      ],
      "metadata": {
        "colab": {
          "base_uri": "https://localhost:8080/"
        },
        "id": "4EWiKVW9s_m3",
        "outputId": "c116c0ba-0890-468c-e5f4-0c404ad986f3"
      },
      "execution_count": 10,
      "outputs": [
        {
          "output_type": "stream",
          "name": "stdout",
          "text": [
            "KMO Score: 0.782 (має бути > 0.6 для якісного аналізу)\n",
            "Bartlett's Test p-value: 0.000 (< 0.05 means suitable)\n"
          ]
        }
      ]
    },
    {
      "cell_type": "code",
      "source": [
        "fa = FactorAnalyzer(n_factors=len(survey_columns), rotation=\"varimax\")\n",
        "fa.fit(survey_data_scaled)\n",
        "\n",
        "# Scree Plot\n",
        "ev, v = fa.get_eigenvalues()\n",
        "plt.figure(figsize=(10, 5))\n",
        "plt.plot(range(1, len(ev) + 1), ev, marker=\"o\")\n",
        "plt.xlabel(\"Number of Factors\")\n",
        "plt.ylabel(\"Eigenvalue\")\n",
        "plt.title(\"Scree Plot\")\n",
        "plt.grid()\n",
        "plt.show()\n",
        "\n",
        "n_factors = sum(ev > 1)\n",
        "print(f\"Number of factors to extract: {n_factors}\")\n"
      ],
      "metadata": {
        "colab": {
          "base_uri": "https://localhost:8080/",
          "height": 542
        },
        "id": "S4cElTUctFAZ",
        "outputId": "c3f7ac71-8655-4a96-dc42-7e4a9bc99a10"
      },
      "execution_count": 11,
      "outputs": [
        {
          "output_type": "stream",
          "name": "stderr",
          "text": [
            "/usr/local/lib/python3.11/dist-packages/sklearn/utils/deprecation.py:151: FutureWarning: 'force_all_finite' was renamed to 'ensure_all_finite' in 1.6 and will be removed in 1.8.\n",
            "  warnings.warn(\n"
          ]
        },
        {
          "output_type": "display_data",
          "data": {
            "text/plain": [
              "<Figure size 1000x500 with 1 Axes>"
            ],
            "image/png": "[encoded data removed]"
          },
          "metadata": {}
        },
        {
          "output_type": "stream",
          "name": "stdout",
          "text": [
            "Number of factors to extract: 4\n"
          ]
        }
      ]
    },
    {
      "cell_type": "code",
      "source": [
        "fa = FactorAnalyzer(n_factors=n_factors, rotation=\"varimax\")\n",
        "fa.fit(survey_data_scaled)\n",
        "\n",
        "factor_loadings = pd.DataFrame(fa.loadings_, index=survey_columns)\n",
        "print(\"\\nФакторні навантаження:\")\n",
        "print(factor_loadings)\n",
        "\n",
        "# Інтерпретація факторів\n",
        "print(\"\\nІнтерпретація факторів:\")\n",
        "print(\" Фактор 1: Зручність і комфорт (Seat comfort, In flight entertainment, Food and drink, Cleanliness)\")\n",
        "print(\" Фактор 2: Обслуговування та реєстрація (In flight service, On-board service, Baggage handling)\")\n",
        "print(\" Фактор 3: Доступність і бронювання (Ease of Online booking, In flight wifi service, Gate location)\")\n",
        "print(\" Фактор 4: Швидкість і зручність посадки (Online boarding, In flight wifi service)\")"
      ],
      "metadata": {
        "colab": {
          "base_uri": "https://localhost:8080/"
        },
        "id": "-7TOHbqbtMY-",
        "outputId": "fbeda795-c4f0-43b2-e86b-0fde93b9e551"
      },
      "execution_count": 12,
      "outputs": [
        {
          "output_type": "stream",
          "name": "stdout",
          "text": [
            "\n",
            "Факторні навантаження:\n",
            "                                          0         1         2         3\n",
            "Inflight wifi service              0.092560  0.131545  0.609605  0.472656\n",
            "Departure/Arrival time convenient -0.009877  0.055483  0.589610 -0.000282\n",
            "Ease of Online booking            -0.035278  0.028295  0.768323  0.456030\n",
            "Gate location                      0.013059 -0.046538  0.683671 -0.104661\n",
            "Food and drink                     0.770685  0.002546  0.030307  0.039919\n",
            "Online boarding                    0.285147  0.117670  0.100954  0.757681\n",
            "Seat comfort                       0.755170  0.077046 -0.028192  0.214319\n",
            "Inflight entertainment             0.768362  0.464174  0.041047  0.030834\n",
            "On-board service                   0.086289  0.701394  0.010312  0.051642\n",
            "Leg room service                   0.057996  0.484668  0.042495  0.095939\n",
            "Baggage handling                   0.038016  0.764250  0.046854 -0.030218\n",
            "Checkin service                    0.113287  0.286905 -0.028398  0.135540\n",
            "Inflight service                   0.037850  0.799469  0.047089 -0.052262\n",
            "Cleanliness                        0.853708  0.082559 -0.001974  0.103565\n",
            "\n",
            "Інтерпретація факторів:\n",
            " Фактор 1: Зручність і комфорт (Seat comfort, In flight entertainment, Food and drink, Cleanliness)\n",
            " Фактор 2: Обслуговування та реєстрація (In flight service, On-board service, Baggage handling)\n",
            " Фактор 3: Доступність і бронювання (Ease of Online booking, In flight wifi service, Gate location)\n",
            " Фактор 4: Швидкість і зручність посадки (Online boarding, In flight wifi service)\n"
          ]
        },
        {
          "output_type": "stream",
          "name": "stderr",
          "text": [
            "/usr/local/lib/python3.11/dist-packages/sklearn/utils/deprecation.py:151: FutureWarning: 'force_all_finite' was renamed to 'ensure_all_finite' in 1.6 and will be removed in 1.8.\n",
            "  warnings.warn(\n"
          ]
        }
      ]
    },
    {
      "cell_type": "markdown",
      "source": [
        "Підсумки факторного аналізу: виявили чотири основні фактори, які пояснюють структуру відповідей пасажирів:\n",
        "\n",
        "Фактор 1: Зручність і комфорт включає Seat comfort, Inflight entertainment, Food and drink, Cleanliness. Комфорт крісел, якість розваг та чистота салону є основними в задоволеності пасажирів. Поліпшення цих характеристик може значно підвищити лояльність клієнтів.\n",
        "\n",
        "Фактор 2: Обслуговування та реєстрація включає Inflight service, On-board service, Baggage handling. Пасажири оцінюють якість обслуговування під час польоту, управління багажем та надання послуг на борту. Оптимізація цих процесів може вплинути на загальний імідж компанії.\n",
        "\n",
        "Фактор 3: Доступність і бронювання включає Ease of Online booking, Inflight wifi service, Gate location. Зручність онлайн-бронювання, доступ до Wi-Fi та розташування виходу на посадку є важливими для планування подорожі. Покращення цифрових сервісів може зробити процес бронювання більш доступним та зручним.\n",
        "\n",
        "Фактор 4: Швидкість і зручність посадки включає Online boarding, Inflight wifi service. Швидка посадка та доступність Wi-Fi є також важливими для пасажирів, які цінують ефективність і сучасні цифрові рішення.\n",
        "\n",
        "Авіакомпанії можуть використовувати ці фактори для оптимізації сервісу, розробки цільових маркетингових кампаній та впровадження змін, що безпосередньо впливають на вибір клієнтів.\n",
        "Практичні застосування: покращення системи онлайн-бронювання та цифрового сервісу, інвестування у комфортні крісла та розважальні системи, оптимізація логістики посадки для швидшого обслуговування, аналіз і покращення сервісу роботи з багажем."
      ],
      "metadata": {
        "id": "-W4ZOxb9vIm8"
      }
    }
  ]
}