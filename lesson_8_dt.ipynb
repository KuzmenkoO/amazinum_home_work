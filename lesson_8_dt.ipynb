{
  "nbformat": 4,
  "nbformat_minor": 0,
  "metadata": {
    "colab": {
      "provenance": [],
      "authorship_tag": "ABX9TyPAbtEMOSXqqdHBJIHjEkNs",
      "include_colab_link": true
    },
    "kernelspec": {
      "name": "python3",
      "display_name": "Python 3"
    },
    "language_info": {
      "name": "python"
    }
  },
  "cells": [
    {
      "cell_type": "markdown",
      "metadata": {
        "id": "view-in-github",
        "colab_type": "text"
      },
      "source": [
        "<a href=\"https://colab.research.google.com/github/KuzmenkoO/amazinum_home_work/blob/main/lesson_8_dt.ipynb\" target=\"_parent\"><img src=\"https://colab.research.google.com/assets/colab-badge.svg\" alt=\"Open In Colab\"/></a>"
      ]
    },
    {
      "cell_type": "code",
      "execution_count": 1,
      "metadata": {
        "colab": {
          "base_uri": "https://localhost:8080/"
        },
        "id": "kxNe3t3JpbR0",
        "outputId": "444eb5bd-73b7-4bfa-b5e6-85f36d5bf777"
      },
      "outputs": [
        {
          "output_type": "stream",
          "name": "stdout",
          "text": [
            "labels: ['malignant' 'benign']\n",
            "features: ['mean radius' 'mean texture' 'mean perimeter' 'mean area'\n",
            " 'mean smoothness' 'mean compactness' 'mean concavity'\n",
            " 'mean concave points' 'mean symmetry' 'mean fractal dimension'\n",
            " 'radius error' 'texture error' 'perimeter error' 'area error'\n",
            " 'smoothness error' 'compactness error' 'concavity error'\n",
            " 'concave points error' 'symmetry error' 'fractal dimension error'\n",
            " 'worst radius' 'worst texture' 'worst perimeter' 'worst area'\n",
            " 'worst smoothness' 'worst compactness' 'worst concavity'\n",
            " 'worst concave points' 'worst symmetry' 'worst fractal dimension']\n"
          ]
        }
      ],
      "source": [
        "from sklearn.datasets import load_breast_cancer\n",
        "from sklearn.model_selection import train_test_split\n",
        "from sklearn.tree import DecisionTreeClassifier\n",
        "from sklearn.ensemble import RandomForestClassifier\n",
        "from sklearn.ensemble import GradientBoostingClassifier\n",
        "from xgboost import XGBClassifier\n",
        "from sklearn import tree\n",
        "import graphviz\n",
        "\n",
        "cancer = load_breast_cancer()\n",
        "X, y, labels, features = cancer.data, cancer.target, cancer.target_names, cancer.feature_names\n",
        "print ('labels:',labels)\n",
        "print ('features:', features)\n",
        "\n",
        "X_train, X_test, y_train, y_test = train_test_split(X, y, random_state = 0)\n"
      ]
    },
    {
      "cell_type": "markdown",
      "source": [
        "# DecisionTree\n",
        "\n"
      ],
      "metadata": {
        "id": "f2HHb7alpm9K"
      }
    },
    {
      "cell_type": "code",
      "source": [
        "# YOUR_CODE.  create the classifier and train it\n",
        "# START_CODE\n",
        "max_depth = 3\n",
        "clf = DecisionTreeClassifier(\n",
        "    criterion=  'entropy',\n",
        "    random_state=20,\n",
        "    max_depth=max_depth,\n",
        ").fit(X_train, y_train)\n",
        "# END_CODE\n",
        "\n",
        "print(\"train accuracy= {:.3%}\".format(clf.score(X_train, y_train)))\n",
        "print(\"test accuracy= {:.3%}\".format(clf.score (X_test, y_test)))\n",
        "graph_viz = tree.export_graphviz(clf, out_file=None,feature_names=features, class_names=labels, filled = True)\n",
        "graph = graphviz.Source(graph_viz)\n",
        "graph.view(cleanup =True) # cleanup (bool) – Delete the source file after rendering.\n",
        "\n"
      ],
      "metadata": {
        "colab": {
          "base_uri": "https://localhost:8080/",
          "height": 73
        },
        "id": "TuszBhVHprVW",
        "outputId": "a02b2cbc-e3b5-468d-b2d6-62e5ab404e27"
      },
      "execution_count": 6,
      "outputs": [
        {
          "output_type": "stream",
          "name": "stdout",
          "text": [
            "train accuracy= 97.653%\n",
            "test accuracy= 95.105%\n"
          ]
        },
        {
          "output_type": "execute_result",
          "data": {
            "text/plain": [
              "'Source.gv.pdf'"
            ],
            "application/vnd.google.colaboratory.intrinsic+json": {
              "type": "string"
            }
          },
          "metadata": {},
          "execution_count": 6
        }
      ]
    },
    {
      "cell_type": "markdown",
      "source": [
        "# RandomForest\n",
        "\n"
      ],
      "metadata": {
        "id": "yqsPI_ZXpwnx"
      }
    },
    {
      "cell_type": "code",
      "source": [
        "# YOUR_CODE.  create the classifier and train it\n",
        "# START_CODE\n",
        "clf = RandomForestClassifier(\n",
        "    random_state=0,\n",
        "    n_estimators= 10,\n",
        "    max_features=11\n",
        ").fit(X_train, y_train)\n",
        "# END_CODE\n",
        "\n",
        "print(\"train accuracy= {:.3%}\".format(clf.score (X_train, y_train)))\n",
        "print(\"test accuracy= {:.3%}\".format(clf.score (X_test, y_test)))\n",
        "\n",
        "\n"
      ],
      "metadata": {
        "colab": {
          "base_uri": "https://localhost:8080/"
        },
        "id": "NlkhObVop0Id",
        "outputId": "a36091ff-9685-4d33-bc26-d5b2e15f2d3d"
      },
      "execution_count": 7,
      "outputs": [
        {
          "output_type": "stream",
          "name": "stdout",
          "text": [
            "train accuracy= 99.765%\n",
            "test accuracy= 96.503%\n"
          ]
        }
      ]
    },
    {
      "cell_type": "markdown",
      "source": [
        "# Gradient Boosting Decision Trees (GBDT)\n",
        "\n"
      ],
      "metadata": {
        "id": "5BZQEpfyp4K1"
      }
    },
    {
      "cell_type": "code",
      "source": [
        "# YOUR_CODE.  create the classifier and train it\n",
        "# START_CODE\n",
        "clf = GradientBoostingClassifier(\n",
        "learning_rate=0.3,\n",
        "max_depth=3,\n",
        "n_estimators= 10\n",
        ").fit(X_train, y_train)\n",
        "# END_CODE\n",
        "\n",
        "print(\"train accuracy= {:.3%}\".format(clf.score (X_train, y_train)))\n",
        "print(\"test accuracy= {:.3%}\".format(clf.score (X_test, y_test)))\n",
        "\n",
        "\n"
      ],
      "metadata": {
        "colab": {
          "base_uri": "https://localhost:8080/"
        },
        "id": "1r2w3tK6p6tC",
        "outputId": "7f71fd5c-c0e1-475f-f387-a8521cd41702"
      },
      "execution_count": 8,
      "outputs": [
        {
          "output_type": "stream",
          "name": "stdout",
          "text": [
            "train accuracy= 99.765%\n",
            "test accuracy= 97.203%\n"
          ]
        }
      ]
    },
    {
      "cell_type": "markdown",
      "source": [
        "# XGBoost\n",
        "\n"
      ],
      "metadata": {
        "id": "8WR2zuOhp9rO"
      }
    },
    {
      "cell_type": "code",
      "source": [
        "# YOUR_CODE.  create the classifier and train it\n",
        "# START_CODE\n",
        "clf = XGBClassifier(\n",
        "    n_estimators=100,\n",
        "    learning_rate=0.1,\n",
        "    max_depth=3,\n",
        "    eval_metric='logloss',\n",
        "    random_state=0\n",
        ").fit(X_train, y_train)\n",
        "# END_CODE\n",
        "\n",
        "print(\"train accuracy= {:.3%}\".format(clf.score (X_train, y_train)))\n",
        "print(\"test accuracy= {:.3%}\".format(clf.score (X_test, y_test)))"
      ],
      "metadata": {
        "colab": {
          "base_uri": "https://localhost:8080/"
        },
        "id": "gwPfayX4qAvZ",
        "outputId": "1e3d04ee-f306-4d52-8d88-43c3b9dd57b6"
      },
      "execution_count": 9,
      "outputs": [
        {
          "output_type": "stream",
          "name": "stdout",
          "text": [
            "train accuracy= 100.000%\n",
            "test accuracy= 98.601%\n"
          ]
        }
      ]
    }
  ]
}